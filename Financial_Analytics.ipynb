{
  "nbformat": 4,
  "nbformat_minor": 0,
  "metadata": {
    "colab": {
      "provenance": [],
      "authorship_tag": "ABX9TyOVpXEfi7i+9WgL9x+jU4le"
    },
    "kernelspec": {
      "name": "python3",
      "display_name": "Python 3"
    },
    "language_info": {
      "name": "python"
    }
  },
  "cells": [
    {
      "cell_type": "markdown",
      "source": [
        "## Import Dataset"
      ],
      "metadata": {
        "id": "g61qAv24X2Sc"
      }
    },
    {
      "cell_type": "code",
      "execution_count": null,
      "metadata": {
        "colab": {
          "base_uri": "https://localhost:8080/"
        },
        "id": "1cs_J_TvW8ah",
        "outputId": "9ff30db1-cc4d-47ce-d0e2-0a79d54453f1"
      },
      "outputs": [
        {
          "output_type": "stream",
          "name": "stdout",
          "text": [
            "              Food    Beer   Smoke   Games   Books   Hshld   Clths    Hlth  \\\n",
            "1926-07-01  0.0056 -0.0519  0.0129  0.0293  0.1097 -0.0048  0.0808  0.0177   \n",
            "1926-08-01  0.0259  0.2703  0.0650  0.0055  0.1001 -0.0358 -0.0251  0.0425   \n",
            "1926-09-01  0.0116  0.0402  0.0126  0.0658 -0.0099  0.0073 -0.0051  0.0069   \n",
            "1926-10-01 -0.0306 -0.0331  0.0106 -0.0476  0.0947 -0.0468  0.0012 -0.0057   \n",
            "1926-11-01  0.0635  0.0729  0.0455  0.0166 -0.0580 -0.0054  0.0187  0.0542   \n",
            "\n",
            "             Chems   Txtls  ...   Telcm   Servs   BusEq   Paper   Trans  \\\n",
            "1926-07-01  0.0814  0.0039  ...  0.0083  0.0922  0.0206  0.0770  0.0191   \n",
            "1926-08-01  0.0550  0.0797  ...  0.0217  0.0202  0.0439 -0.0238  0.0485   \n",
            "1926-09-01  0.0533  0.0230  ...  0.0241  0.0225  0.0019 -0.0554  0.0007   \n",
            "1926-10-01 -0.0476  0.0100  ... -0.0011 -0.0200 -0.0109 -0.0508 -0.0261   \n",
            "1926-11-01  0.0520  0.0310  ...  0.0163  0.0377  0.0364  0.0384  0.0161   \n",
            "\n",
            "             Whlsl   Rtail   Meals     Fin   Other  \n",
            "1926-07-01 -0.2379  0.0007  0.0187 -0.0002  0.0520  \n",
            "1926-08-01  0.0539 -0.0075 -0.0013  0.0447  0.0676  \n",
            "1926-09-01 -0.0787  0.0025 -0.0056 -0.0161 -0.0386  \n",
            "1926-10-01 -0.1538 -0.0220 -0.0411 -0.0551 -0.0849  \n",
            "1926-11-01  0.0467  0.0652  0.0433  0.0234  0.0400  \n",
            "\n",
            "[5 rows x 30 columns]\n"
          ]
        }
      ],
      "source": [
        "import pandas as pd\n",
        "\n",
        "df = pd.read_csv('sector_returns.csv', delimiter=';', index_col=0)\n",
        "df.index = pd.to_datetime(df.index.astype(str), format='%Y%m')\n",
        "df = df / 100\n",
        "\n",
        "print(df.head())"
      ]
    },
    {
      "cell_type": "markdown",
      "source": [
        "## In Sample Analysis"
      ],
      "metadata": {
        "id": "Sp66OuQHcPpT"
      }
    },
    {
      "cell_type": "markdown",
      "source": [
        "### Mean Returns for Each Sectors (ri)"
      ],
      "metadata": {
        "id": "zpMReIcLbPtl"
      }
    },
    {
      "cell_type": "code",
      "source": [
        "expected_returns = df.mean().values  # Vector of sector average returns\n",
        "print(\"Expected Returns (r_i):\\n\", expected_returns)"
      ],
      "metadata": {
        "colab": {
          "base_uri": "https://localhost:8080/"
        },
        "id": "uZWkZkFibTvD",
        "outputId": "66bafa87-f064-471c-858e-a3658ad3ba81"
      },
      "execution_count": null,
      "outputs": [
        {
          "output_type": "stream",
          "name": "stdout",
          "text": [
            "Expected Returns (r_i):\n",
            " [0.00945    0.01163274 0.01142335 0.01141387 0.00912809 0.00909831\n",
            " 0.0090797  0.01065228 0.01024332 0.00940178 0.01012547 0.00956108\n",
            " 0.01084679 0.01151438 0.01217411 0.01126734 0.00929408 0.01093638\n",
            " 0.01028807 0.0087901  0.00826125 0.01238113 0.01209272 0.0097813\n",
            " 0.00931717 0.00853308 0.01066438 0.01076768 0.01019628 0.00817335]\n"
          ]
        }
      ]
    },
    {
      "cell_type": "markdown",
      "source": [
        "### Covariance Matrix (Σ)\n",
        "Measures how sectors move together (critical for risk calculation)."
      ],
      "metadata": {
        "id": "yFM9frPHbcaF"
      }
    },
    {
      "cell_type": "code",
      "source": [
        "cov_matrix = df.cov().values  # Covariance matrix\n",
        "print(\"Covariance Matrix:\\n\", cov_matrix)"
      ],
      "metadata": {
        "colab": {
          "base_uri": "https://localhost:8080/"
        },
        "id": "F7H_sPRfbcFj",
        "outputId": "0d8f3d9f-702e-4d41-e8ea-5763f60e75cd"
      },
      "execution_count": null,
      "outputs": [
        {
          "output_type": "stream",
          "name": "stdout",
          "text": [
            "Covariance Matrix:\n",
            " [[0.00220347 0.00233363 0.00180375 0.00288002 0.00243451 0.00215032\n",
            "  0.00185664 0.00198844 0.00218249 0.00246036 0.00249457 0.00254314\n",
            "  0.00241683 0.00261851 0.00244008 0.00249536 0.00175655 0.00251063\n",
            "  0.00176207 0.00181111 0.00141318 0.00161522 0.00198009 0.00208528\n",
            "  0.00234926 0.00234834 0.00219694 0.00220143 0.00252094 0.00224575]\n",
            " [0.00233363 0.00497274 0.0018732  0.00395503 0.00297735 0.00267368\n",
            "  0.00220681 0.00247199 0.00273267 0.00330447 0.00332252 0.00320937\n",
            "  0.00314074 0.00326743 0.00312452 0.00327309 0.00232012 0.00323531\n",
            "  0.00218787 0.00222216 0.00165093 0.00200396 0.00251324 0.00255032\n",
            "  0.00302131 0.00338101 0.00268817 0.00288583 0.00316094 0.00292994]\n",
            " [0.00180375 0.0018732  0.0033917  0.00248135 0.00202144 0.00183803\n",
            "  0.00156505 0.00177688 0.00185696 0.00206072 0.00215762 0.00228172\n",
            "  0.00205154 0.00220418 0.00205736 0.00213436 0.00163433 0.00224393\n",
            "  0.00158401 0.0016219  0.00127581 0.00139139 0.0017022  0.00184304\n",
            "  0.00200076 0.00204463 0.00176747 0.00183115 0.0021698  0.00205137]\n",
            " [0.00288002 0.00395503 0.00248135 0.00794005 0.0046919  0.00355528\n",
            "  0.00349366 0.00330394 0.00403749 0.00507674 0.00486829 0.00544079\n",
            "  0.00499495 0.0052087  0.00529483 0.00485342 0.003767   0.00507607\n",
            "  0.00315415 0.00289618 0.00259143 0.00329438 0.00436155 0.00364621\n",
            "  0.00472157 0.00483037 0.00402311 0.00427109 0.00476753 0.00446214]\n",
            " [0.00243451 0.00297735 0.00202144 0.0046919  0.00515238 0.0028798\n",
            "  0.00306431 0.00259689 0.00323761 0.00425288 0.00400894 0.00443152\n",
            "  0.00405468 0.00409511 0.00433553 0.00397243 0.00287374 0.00431959\n",
            "  0.00269953 0.00244773 0.00209642 0.00289226 0.00318267 0.00312803\n",
            "  0.00390179 0.00376953 0.00322751 0.00327221 0.00380235 0.00345484]\n",
            " [0.00215032 0.00267368 0.00183803 0.00355528 0.0028798  0.00329442\n",
            "  0.00211897 0.00233425 0.00263363 0.00293995 0.00302485 0.00313563\n",
            "  0.00301428 0.00325673 0.00315755 0.00299485 0.00212269 0.00278535\n",
            "  0.00197486 0.00201239 0.00158089 0.00194873 0.00258862 0.00255488\n",
            "  0.00276798 0.00284586 0.00258275 0.00255794 0.00291172 0.00279371]\n",
            " [0.00185664 0.00220681 0.00156505 0.00349366 0.00306431 0.00211897\n",
            "  0.0038387  0.00187233 0.00261102 0.00355249 0.00313607 0.00325964\n",
            "  0.00306169 0.00300308 0.00332848 0.00306597 0.0021689  0.00304329\n",
            "  0.00189916 0.0016014  0.00155177 0.00231818 0.00256976 0.00249491\n",
            "  0.00293327 0.00294103 0.00271728 0.00273072 0.00277475 0.00268002]\n",
            " [0.00198844 0.00247199 0.00177688 0.00330394 0.00259689 0.00233425\n",
            "  0.00187233 0.00303281 0.00241876 0.00257967 0.00268232 0.00281232\n",
            "  0.00270371 0.00300231 0.0026558  0.00270091 0.00193362 0.00278944\n",
            "  0.00190074 0.00184401 0.00153909 0.00193438 0.00252477 0.0023007\n",
            "  0.00253539 0.00264982 0.00235303 0.00236003 0.00277007 0.00250496]\n",
            " [0.00218249 0.00273267 0.00185696 0.00403749 0.00323761 0.00263363\n",
            "  0.00261102 0.00241876 0.00400021 0.00368499 0.00372162 0.00435695\n",
            "  0.00391737 0.00398713 0.00404989 0.00359216 0.00303183 0.0040175\n",
            "  0.00274706 0.00221799 0.00193558 0.00216789 0.00309983 0.0031732\n",
            "  0.00346682 0.0031663  0.00281126 0.00276677 0.00340608 0.00314879]\n",
            " [0.00246036 0.00330447 0.00206072 0.00507674 0.00425288 0.00293995\n",
            "  0.00355249 0.00257967 0.00368499 0.00625421 0.00446157 0.00487955\n",
            "  0.00440492 0.00430948 0.00477367 0.00428414 0.00318557 0.00446917\n",
            "  0.00278405 0.00240603 0.0021435  0.00256174 0.00329688 0.00340567\n",
            "  0.00418549 0.00407193 0.00340759 0.00343596 0.00399781 0.00372202]\n",
            " [0.00249457 0.00332252 0.00215762 0.00486829 0.00400894 0.00302485\n",
            "  0.00313607 0.00268232 0.00372162 0.00446157 0.00487081 0.00480814\n",
            "  0.00443415 0.00451799 0.00458795 0.00417899 0.00329152 0.00450502\n",
            "  0.00296072 0.00257279 0.00213588 0.00275177 0.00352002 0.00336721\n",
            "  0.0040408  0.00399239 0.00334732 0.00340561 0.00402457 0.00369751]\n",
            " [0.00254314 0.00320937 0.00228172 0.00544079 0.00443152 0.00313563\n",
            "  0.00325964 0.00281232 0.00435695 0.00487955 0.00480814 0.00744683\n",
            "  0.00541736 0.00524392 0.00533388 0.00499504 0.00455323 0.006271\n",
            "  0.0037072  0.00268613 0.00243599 0.00282177 0.00416932 0.00383103\n",
            "  0.00480867 0.00428453 0.00344786 0.00337981 0.00436497 0.00403147]\n",
            " [0.00241683 0.00314074 0.00205154 0.00499495 0.00405468 0.00301428\n",
            "  0.00306169 0.00270371 0.00391737 0.00440492 0.00443415 0.00541736\n",
            "  0.00520966 0.00474899 0.00473981 0.00445041 0.00364413 0.00521117\n",
            "  0.00324607 0.00250803 0.00218054 0.00283016 0.00386404 0.00348605\n",
            "  0.0042807  0.00392851 0.00327479 0.00331038 0.00398631 0.00369056]\n",
            " [0.00261851 0.00326743 0.00220418 0.0052087  0.00409511 0.00325673\n",
            "  0.00300308 0.00300231 0.00398713 0.00430948 0.00451799 0.00524392\n",
            "  0.00474899 0.00582524 0.0050222  0.00451183 0.00340424 0.00465466\n",
            "  0.0030372  0.00278433 0.00233531 0.00277569 0.003996   0.00357666\n",
            "  0.0042937  0.003934   0.00354433 0.00344383 0.00425534 0.00379928]\n",
            " [0.00244008 0.00312452 0.00205736 0.00529483 0.00433553 0.00315755\n",
            "  0.00332848 0.0026558  0.00404989 0.00477367 0.00458795 0.00533388\n",
            "  0.00473981 0.0050222  0.00728618 0.00439187 0.00333796 0.00456078\n",
            "  0.00300195 0.00256681 0.00228945 0.00271914 0.00390406 0.00360589\n",
            "  0.00429444 0.00397962 0.00373359 0.00339889 0.00420266 0.00380574]\n",
            " [0.00249536 0.00327309 0.00213436 0.00485342 0.00397243 0.00299485\n",
            "  0.00306597 0.00270091 0.00359216 0.00428414 0.00417899 0.00499504\n",
            "  0.00445041 0.00451183 0.00439187 0.00577786 0.00323981 0.00484977\n",
            "  0.0030953  0.00253377 0.00205593 0.00256723 0.00338785 0.00330641\n",
            "  0.00438767 0.00396122 0.00313371 0.00342639 0.00401326 0.00369415]\n",
            " [0.00175655 0.00232012 0.00163433 0.003767   0.00287374 0.00212269\n",
            "  0.0021689  0.00193362 0.00303183 0.00318557 0.00329152 0.00455323\n",
            "  0.00364413 0.00340424 0.00333796 0.00323981 0.00539593 0.00449648\n",
            "  0.00290005 0.00191348 0.00159665 0.00207202 0.00264283 0.00257356\n",
            "  0.00312224 0.00299614 0.00225313 0.00249027 0.00289863 0.00277144]\n",
            " [0.00251063 0.00323531 0.00224393 0.00507607 0.00431959 0.00278535\n",
            "  0.00304329 0.00278944 0.0040175  0.00446917 0.00450502 0.006271\n",
            "  0.00521117 0.00465466 0.00456078 0.00484977 0.00449648 0.012113\n",
            "  0.00415353 0.00296851 0.00217909 0.00253092 0.0034675  0.00346268\n",
            "  0.00490766 0.00439508 0.00291999 0.00321028 0.00424757 0.00359424]\n",
            " [0.00176207 0.00218787 0.00158401 0.00315415 0.00269953 0.00197486\n",
            "  0.00189916 0.00190074 0.00274706 0.00278405 0.00296072 0.0037072\n",
            "  0.00324607 0.0030372  0.00300195 0.0030953  0.00290005 0.00415353\n",
            "  0.00410961 0.00202261 0.00153436 0.00184474 0.0023037  0.00234579\n",
            "  0.00276005 0.00262658 0.00202195 0.0021458  0.0028764  0.00252069]\n",
            " [0.00181111 0.00222216 0.0016219  0.00289618 0.00244773 0.00201239\n",
            "  0.0016014  0.00184401 0.00221799 0.00240603 0.00257279 0.00268613\n",
            "  0.00250803 0.00278433 0.00256681 0.00253377 0.00191348 0.00296851\n",
            "  0.00202261 0.00298538 0.00158238 0.00152799 0.00192552 0.00201676\n",
            "  0.00246207 0.00238752 0.00200298 0.00208457 0.002766   0.00225454]\n",
            " [0.00141318 0.00165093 0.00127581 0.00259143 0.00209642 0.00158089\n",
            "  0.00155177 0.00153909 0.00193558 0.0021435  0.00213588 0.00243599\n",
            "  0.00218054 0.00233531 0.00228945 0.00205593 0.00159665 0.00217909\n",
            "  0.00153436 0.00158238 0.00216086 0.00173381 0.0019967  0.00171664\n",
            "  0.00206828 0.00198456 0.0018192  0.00176476 0.00222917 0.00189459]\n",
            " [0.00161522 0.00200396 0.00139139 0.00329438 0.00289226 0.00194873\n",
            "  0.00231818 0.00193438 0.00216789 0.00256174 0.00275177 0.00282177\n",
            "  0.00283016 0.00277569 0.00271914 0.00256723 0.00207202 0.00253092\n",
            "  0.00184474 0.00152799 0.00173381 0.00671    0.00308271 0.00217921\n",
            "  0.00251192 0.00264433 0.00233586 0.00251997 0.00250623 0.00243933]\n",
            " [0.00198009 0.00251324 0.0017022  0.00436155 0.00318267 0.00258862\n",
            "  0.00256976 0.00252477 0.00309983 0.00329688 0.00352002 0.00416932\n",
            "  0.00386404 0.003996   0.00390406 0.00338785 0.00264283 0.0034675\n",
            "  0.0023037  0.00192552 0.0019967  0.00308271 0.0045499  0.00283003\n",
            "  0.00321284 0.00322656 0.0029418  0.0028172  0.00322    0.00314467]\n",
            " [0.00208528 0.00255032 0.00184304 0.00364621 0.00312803 0.00255488\n",
            "  0.00249491 0.0023007  0.0031732  0.00340567 0.00336721 0.00383103\n",
            "  0.00348605 0.00357666 0.00360589 0.00330641 0.00257356 0.00346268\n",
            "  0.00234579 0.00201676 0.00171664 0.00217921 0.00283003 0.00342981\n",
            "  0.0032088  0.00291454 0.00264882 0.00262763 0.00317459 0.00294021]\n",
            " [0.00234926 0.00302131 0.00200076 0.00472157 0.00390179 0.00276798\n",
            "  0.00293327 0.00253539 0.00346682 0.00418549 0.0040408  0.00480867\n",
            "  0.0042807  0.0042937  0.00429444 0.00438767 0.00312224 0.00490766\n",
            "  0.00276005 0.00246207 0.00206828 0.00251192 0.00321284 0.0032088\n",
            "  0.00501937 0.00376985 0.00311623 0.00333158 0.00391719 0.00346091]\n",
            " [0.00234834 0.00338101 0.00204463 0.00483037 0.00376953 0.00284586\n",
            "  0.00294103 0.00264982 0.0031663  0.00407193 0.00399239 0.00428453\n",
            "  0.00392851 0.003934   0.00397962 0.00396122 0.00299614 0.00439508\n",
            "  0.00262658 0.00238752 0.00198456 0.00264433 0.00322656 0.00291454\n",
            "  0.00376985 0.00524246 0.00317711 0.003304   0.00371196 0.00357485]\n",
            " [0.00219694 0.00268817 0.00176747 0.00402311 0.00322751 0.00258275\n",
            "  0.00271728 0.00235303 0.00281126 0.00340759 0.00334732 0.00344786\n",
            "  0.00327479 0.00354433 0.00373359 0.00313371 0.00225313 0.00291999\n",
            "  0.00202195 0.00200298 0.0018192  0.00233586 0.0029418  0.00264882\n",
            "  0.00311623 0.00317711 0.0035462  0.00295186 0.00320858 0.0029147 ]\n",
            " [0.00220143 0.00288583 0.00183115 0.00427109 0.00327221 0.00255794\n",
            "  0.00273072 0.00236003 0.00276677 0.00343596 0.00340561 0.00337981\n",
            "  0.00331038 0.00344383 0.00339889 0.00342639 0.00249027 0.00321028\n",
            "  0.0021458  0.00208457 0.00176476 0.00251997 0.0028172  0.00262763\n",
            "  0.00333158 0.003304   0.00295186 0.00416489 0.003219   0.00298416]\n",
            " [0.00252094 0.00316094 0.0021698  0.00476753 0.00380235 0.00291172\n",
            "  0.00277475 0.00277007 0.00340608 0.00399781 0.00402457 0.00436497\n",
            "  0.00398631 0.00425534 0.00420266 0.00401326 0.00289863 0.00424757\n",
            "  0.0028764  0.002766   0.00222917 0.00250623 0.00322    0.00317459\n",
            "  0.00391719 0.00371196 0.00320858 0.003219   0.00454506 0.00357503]\n",
            " [0.00224575 0.00292994 0.00205137 0.00446214 0.00345484 0.00279371\n",
            "  0.00268002 0.00250496 0.00314879 0.00372202 0.00369751 0.00403147\n",
            "  0.00369056 0.00379928 0.00380574 0.00369415 0.00277144 0.00359424\n",
            "  0.00252069 0.00225454 0.00189459 0.00243933 0.00314467 0.00294021\n",
            "  0.00346091 0.00357485 0.0029147  0.00298416 0.00357503 0.00437915]]\n"
          ]
        }
      ]
    },
    {
      "cell_type": "markdown",
      "source": [
        "### Target Expected Return\n",
        "\n",
        "*   Set one return (average return across assets) and use that for every strategy at time 𝑡 to compare strategies fairly, since all aim for the same return.\n",
        "*   This isolates the impact of the strategy constraints (e.g., no shorting, minimum investment) on risk and realized returns."
      ],
      "metadata": {
        "id": "1HYx5Fqrbo1a"
      }
    },
    {
      "cell_type": "code",
      "source": [
        "# Compute target expected return: average of all r_i\n",
        "target_return = expected_returns.mean()\n",
        "print(\"Target Portfolio Return (r̄) Monthly:\", target_return)\n",
        "\n",
        "# Convert monthly return to annual return with compounding\n",
        "annual_target_return = (1 + target_return)**12 - 1\n",
        "print(\"Target Portfolio Return (r̄) Annual:\", annual_target_return)"
      ],
      "metadata": {
        "colab": {
          "base_uri": "https://localhost:8080/"
        },
        "id": "bcV8wg-PVLnI",
        "outputId": "9bdbf60b-3813-4264-fe2a-a6419c93a329"
      },
      "execution_count": null,
      "outputs": [
        {
          "output_type": "stream",
          "name": "stdout",
          "text": [
            "Target Portfolio Return (r̄) Monthly: 0.010216319796954317\n",
            "Target Portfolio Return (r̄) Annual: 0.12972453790930794\n"
          ]
        }
      ]
    },
    {
      "cell_type": "markdown",
      "source": [
        "### MV – the unconstrained optimal mean-variance strategy"
      ],
      "metadata": {
        "id": "OGskNUa9Vjma"
      }
    },
    {
      "cell_type": "code",
      "source": [
        "from scipy.optimize import minimize\n",
        "import numpy as np\n",
        "import pandas as pd\n",
        "\n",
        "N = len(expected_returns)\n",
        "T = len(df) - 1  # Because we’ll compute t+1 returns\n",
        "\n",
        "# Optimization setup\n",
        "def portfolio_variance(w, cov_matrix):\n",
        "    return 0.5 * np.dot(w.T, np.dot(cov_matrix, w))\n",
        "\n",
        "# Constraints: target return and sum to 1\n",
        "constraints = [\n",
        "    {'type': 'eq', 'fun': lambda w: np.sum(w) - 1},\n",
        "    {'type': 'eq', 'fun': lambda w: np.dot(w, expected_returns) - target_return}\n",
        "]\n",
        "\n",
        "bounds = [(None, None)] * N\n",
        "w0 = np.ones(N) / N\n",
        "\n",
        "# Store rolling results\n",
        "weights_list = []\n",
        "realized_returns = []\n",
        "\n",
        "for t in range(T):\n",
        "    # Solve optimization at time t (using fixed expected_returns and cov_matrix)\n",
        "    result = minimize(portfolio_variance, w0, args=(cov_matrix,), method='SLSQP',\n",
        "                      constraints=constraints, bounds=bounds)\n",
        "    w_t = result.x\n",
        "    weights_list.append(w_t)\n",
        "\n",
        "    # Compute realized return at t+1 using actual data\n",
        "    r_tp1 = df.iloc[t + 1].values  # returns at time t+1\n",
        "    realized_return = np.dot(w_t, r_tp1)\n",
        "    realized_returns.append(realized_return)\n",
        "\n",
        "# Convert results to arrays and dataframe\n",
        "realized_returns = np.array(realized_returns)\n",
        "weights_array = np.array(weights_list)\n",
        "mv_weights_in = pd.DataFrame(weights_array, columns=df.columns)\n",
        "\n",
        "# Evaluation metrics\n",
        "mv_returns_in = realized_returns\n",
        "\n",
        "# Display results\n",
        "print(\"In-Sample Evaluation (MV Strategy):\")\n",
        "print(\"Average Realized Return:\", np.mean(mv_returns_in))\n",
        "print(\"Portfolio Variance:\", np.var(mv_returns_in, ddof=1))\n",
        "print(\"Portfolio Risk/Volatility (Std Dev):\", np.std(mv_returns_in, ddof=1))\n"
      ],
      "metadata": {
        "colab": {
          "base_uri": "https://localhost:8080/"
        },
        "id": "7_Yd3nv4Vn47",
        "outputId": "d3882c25-be6d-4131-806a-7cd2401efabe"
      },
      "execution_count": null,
      "outputs": [
        {
          "output_type": "stream",
          "name": "stdout",
          "text": [
            "In-Sample Evaluation (MV Strategy):\n",
            "Average Realized Return: 0.010194005138661996\n",
            "Portfolio Variance: 0.0014270916581411277\n",
            "Portfolio Risk/Volatility (Std Dev): 0.03777686670624137\n"
          ]
        }
      ]
    },
    {
      "cell_type": "markdown",
      "source": [
        "### NSMV – the optimal mean-variance strategy with no-shorting constraint"
      ],
      "metadata": {
        "id": "P72pd8V3e3JR"
      }
    },
    {
      "cell_type": "code",
      "source": [
        "from scipy.optimize import minimize\n",
        "import numpy as np\n",
        "import pandas as pd\n",
        "\n",
        "# Objective function: minimize portfolio variance\n",
        "def portfolio_variance(w, cov_matrix):\n",
        "    return 0.5 * np.dot(w.T, np.dot(cov_matrix, w))\n",
        "\n",
        "# Constraints: target return and sum to 1\n",
        "constraints = [\n",
        "    {'type': 'eq', 'fun': lambda w: np.sum(w) - 1},\n",
        "    {'type': 'eq', 'fun': lambda w: np.dot(w, expected_returns) - target_return}\n",
        "]\n",
        "\n",
        "# No shorting: weights must be >= 0\n",
        "bounds = [(0, 1)] * N\n",
        "w0 = np.ones(N) / N  # initial guess\n",
        "\n",
        "# Store rolling weights and realized returns\n",
        "weights_list = []\n",
        "realized_returns = []\n",
        "\n",
        "for t in range(len(df) - 1):\n",
        "    # Optimize using fixed expected_returns and cov_matrix\n",
        "    result = minimize(portfolio_variance, w0, args=(cov_matrix,), method='SLSQP',\n",
        "                      constraints=constraints, bounds=bounds)\n",
        "    w_t = result.x\n",
        "    weights_list.append(w_t)\n",
        "\n",
        "    # Realized return in t+1 using actual returns\n",
        "    r_tp1 = df.iloc[t + 1].values\n",
        "    realized_return = np.dot(w_t, r_tp1)\n",
        "    realized_returns.append(realized_return)\n",
        "\n",
        "# Convert to arrays and dataframe\n",
        "realized_returns = np.array(realized_returns)\n",
        "weights_array = np.array(weights_list)\n",
        "nsmv_weights_in = pd.DataFrame(weights_array, columns=df.columns)\n",
        "\n",
        "\n",
        "# Evaluation metrics\n",
        "nsmv_returns_in = realized_returns\n",
        "\n",
        "# Display results\n",
        "print(\"In-Sample Evaluation (NSMV Strategy):\")\n",
        "print(\"Average Realized Return:\", np.mean(nsmv_returns_in))\n",
        "print(\"Portfolio Variance:\", np.var(nsmv_returns_in, ddof=1))\n",
        "print(\"Portfolio Risk/Volatility (Std Dev):\", np.std(nsmv_returns_in, ddof=1))\n"
      ],
      "metadata": {
        "colab": {
          "base_uri": "https://localhost:8080/"
        },
        "id": "uztu31-oe9oZ",
        "outputId": "155013cb-b6e0-42b8-8757-af4af5083252"
      },
      "execution_count": null,
      "outputs": [
        {
          "output_type": "stream",
          "name": "stdout",
          "text": [
            "In-Sample Evaluation (NSMV Strategy):\n",
            "Average Realized Return: 0.010205523491724476\n",
            "Portfolio Variance: 0.0019167016833137756\n",
            "Portfolio Risk/Volatility (Std Dev): 0.043780151705010976\n"
          ]
        }
      ]
    },
    {
      "cell_type": "markdown",
      "source": [
        "### MIMV – the optimal mean-variance strategy with the constraint that the minimal investment in each asset is 1/2N"
      ],
      "metadata": {
        "id": "8kWYCyNAg8fE"
      }
    },
    {
      "cell_type": "code",
      "source": [
        "from scipy.optimize import minimize\n",
        "import numpy as np\n",
        "import pandas as pd\n",
        "\n",
        "# Objective: minimize portfolio variance\n",
        "def portfolio_variance(w, cov_matrix):\n",
        "    return 0.5 * np.dot(w.T, np.dot(cov_matrix, w))\n",
        "\n",
        "# Constraints: target return and sum to 1\n",
        "constraints = [\n",
        "    {'type': 'eq', 'fun': lambda w: np.sum(w) - 1},\n",
        "    {'type': 'eq', 'fun': lambda w: np.dot(w, expected_returns) - target_return}\n",
        "]\n",
        "\n",
        "# MIMV minimum weight constraint\n",
        "min_weight = 1 / (2 * N)\n",
        "\n",
        "# Bounds: all weights ≥ 1/(2N)\n",
        "bounds = [(min_weight, 1) for _ in range(N)]\n",
        "w0 = np.ones(N) / N  # Initial guess (equal-weighted)\n",
        "\n",
        "# Store weights and realized returns\n",
        "weights_list = []\n",
        "realized_returns = []\n",
        "\n",
        "for t in range(len(df) - 1):\n",
        "    # Optimization using full-sample estimates (in-sample)\n",
        "    result = minimize(portfolio_variance, w0, args=(cov_matrix,), method='SLSQP',\n",
        "                      constraints=constraints, bounds=bounds)\n",
        "    w_t = result.x\n",
        "    weights_list.append(w_t)\n",
        "\n",
        "    # Realized return at t+1\n",
        "    r_tp1 = df.iloc[t + 1].values\n",
        "    realized_return = np.dot(w_t, r_tp1)\n",
        "    realized_returns.append(realized_return)\n",
        "\n",
        "# Convert results to arrays and dataframe\n",
        "realized_returns = np.array(realized_returns)\n",
        "weights_array = np.array(weights_list)\n",
        "mimv_weights_in = pd.DataFrame(weights_array, columns=df.columns)\n",
        "\n",
        "# Evaluation\n",
        "mimv_returns_in = realized_returns\n",
        "\n",
        "# Display results\n",
        "print(\"In-Sample Evaluation (MIMV Strategy):\")\n",
        "print(\"Average Realized Return:\", np.mean(mimv_returns_in))\n",
        "print(\"Portfolio Variance:\", np.var(mimv_returns_in, ddof=1))\n",
        "print(\"Portfolio Risk/Volatility (Std Dev):\", np.std(mimv_returns_in, ddof=1))\n"
      ],
      "metadata": {
        "colab": {
          "base_uri": "https://localhost:8080/"
        },
        "id": "mcEeq4E0hBno",
        "outputId": "35253c01-dd0c-459b-c8cd-a902f0a933d3"
      },
      "execution_count": null,
      "outputs": [
        {
          "output_type": "stream",
          "name": "stdout",
          "text": [
            "In-Sample Evaluation (MIMV Strategy):\n",
            "Average Realized Return: 0.010203297770168516\n",
            "Portfolio Variance: 0.0023370191534349493\n",
            "Portfolio Risk/Volatility (Std Dev): 0.04834272596197849\n"
          ]
        }
      ]
    },
    {
      "cell_type": "markdown",
      "source": [
        "## Out-of-Sample Evaluation"
      ],
      "metadata": {
        "id": "P36xeTK7h8sV"
      }
    },
    {
      "cell_type": "markdown",
      "source": [
        "### MV (Out-of-Sample, Rolling Window = 120)"
      ],
      "metadata": {
        "id": "BxVuTS2BikT5"
      }
    },
    {
      "cell_type": "code",
      "source": [
        "from scipy.optimize import minimize\n",
        "import numpy as np\n",
        "import pandas as pd\n",
        "\n",
        "M = 120\n",
        "N = df.shape[1]\n",
        "\n",
        "# Optimization function\n",
        "def portfolio_variance(w, cov_matrix):\n",
        "    return 0.5 * np.dot(w.T, np.dot(cov_matrix, w))\n",
        "\n",
        "# Unconstrained optimal mean-variance strategy (MV allows negative weights, so no bounds)\n",
        "bounds = [(None, None)] * N\n",
        "\n",
        "# Output storage\n",
        "weights_list = []\n",
        "realized_returns = []\n",
        "\n",
        "for t in range(M, len(df) - 1):\n",
        "    # Get rolling window data\n",
        "    window_data = df.iloc[t - M:t]\n",
        "    mu_t = window_data.mean().values\n",
        "    sigma_t = window_data.cov().values\n",
        "\n",
        "    # Constraints: target return and sum to 1\n",
        "    constraints = [\n",
        "        {'type': 'eq', 'fun': lambda w: np.sum(w) - 1},\n",
        "        {'type': 'eq', 'fun': lambda w: np.dot(w, mu_t) - target_return}\n",
        "    ]\n",
        "\n",
        "    w0 = np.ones(N) / N  # Initial guess\n",
        "\n",
        "    # Solve optimization\n",
        "    result = minimize(portfolio_variance, w0, args=(sigma_t,), method='SLSQP',\n",
        "                      constraints=constraints, bounds=bounds)\n",
        "\n",
        "    w_t = result.x\n",
        "    weights_list.append(w_t)\n",
        "\n",
        "    # Apply weights to next month's actual return\n",
        "    r_tp1 = df.iloc[t + 1].values\n",
        "    realized_return = np.dot(w_t, r_tp1)\n",
        "    realized_returns.append(realized_return)\n",
        "\n",
        "# Convert to arrays and dataframe\n",
        "realized_returns = np.array(realized_returns)\n",
        "weights_array = np.array(weights_list)\n",
        "mv_weights_out = pd.DataFrame(weights_array, columns=df.columns)\n",
        "\n",
        "\n",
        "# Evaluate performance\n",
        "mv_returns_out = realized_returns\n",
        "\n",
        "# Print results\n",
        "print(\"Out-of-Sample Evaluation (MV Strategy):\")\n",
        "print(\"Average Realized Return:\", np.mean(mv_returns_out))\n",
        "print(\"Portfolio Variance:\", np.var(mv_returns_out, ddof=1))\n",
        "print(\"Portfolio Risk/Volatility (Std Dev):\", np.std(mv_returns_out, ddof=1))\n"
      ],
      "metadata": {
        "colab": {
          "base_uri": "https://localhost:8080/"
        },
        "id": "AML4hoLfiljU",
        "outputId": "1072e953-457f-481d-8424-0d83d49ecd30"
      },
      "execution_count": null,
      "outputs": [
        {
          "output_type": "stream",
          "name": "stdout",
          "text": [
            "Out-of-Sample Evaluation (MV Strategy):\n",
            "Average Realized Return: 0.008574177121505601\n",
            "Portfolio Variance: 0.00131105781154967\n",
            "Portfolio Risk/Volatility (Std Dev): 0.03620853230316951\n"
          ]
        }
      ]
    },
    {
      "cell_type": "markdown",
      "source": [
        "### NSMV (Out-of-Sample, Rolling Window = 120)"
      ],
      "metadata": {
        "id": "b8xWI4lJi1Lc"
      }
    },
    {
      "cell_type": "code",
      "source": [
        "from scipy.optimize import minimize\n",
        "import numpy as np\n",
        "import pandas as pd\n",
        "\n",
        "M = 120\n",
        "N = df.shape[1]\n",
        "\n",
        "# Optimization function\n",
        "def portfolio_variance(w, cov_matrix):\n",
        "    return 0.5 * np.dot(w.T, np.dot(cov_matrix, w))\n",
        "\n",
        "# No-shorting constraint\n",
        "bounds = [(0, 1)] * N\n",
        "\n",
        "# Output storage\n",
        "weights_list = []\n",
        "realized_returns = []\n",
        "\n",
        "for t in range(M, len(df) - 1):\n",
        "    # Get rolling window data\n",
        "    window_data = df.iloc[t - M:t]\n",
        "    mu_t = window_data.mean().values\n",
        "    sigma_t = window_data.cov().values\n",
        "\n",
        "    # Constraints: target return and sum to 1\n",
        "    constraints = [\n",
        "        {'type': 'eq', 'fun': lambda w: np.sum(w) - 1},\n",
        "        {'type': 'eq', 'fun': lambda w: np.dot(w, mu_t) - target_return}\n",
        "    ]\n",
        "\n",
        "    w0 = np.ones(N) / N  # Initial guess\n",
        "\n",
        "    # Solve optimization\n",
        "    result = minimize(portfolio_variance, w0, args=(sigma_t,), method='SLSQP',\n",
        "                      constraints=constraints, bounds=bounds)\n",
        "\n",
        "    w_t = result.x\n",
        "    weights_list.append(w_t)\n",
        "\n",
        "    # Apply weights to next month's actual return\n",
        "    r_tp1 = df.iloc[t + 1].values\n",
        "    realized_return = np.dot(w_t, r_tp1)\n",
        "    realized_returns.append(realized_return)\n",
        "\n",
        "# Convert to arrays and dataframe\n",
        "realized_returns = np.array(realized_returns)\n",
        "weights_array = np.array(weights_list)\n",
        "nsmv_weights_out = pd.DataFrame(weights_array, columns=df.columns)\n",
        "\n",
        "# Evaluate performance\n",
        "nsmv_returns_out = realized_returns\n",
        "\n",
        "# Print results\n",
        "print(\"Out-of-Sample Evaluation (NSMV Strategy):\")\n",
        "print(\"Average Realized Return:\", np.mean(nsmv_returns_out))\n",
        "print(\"Portfolio Variance:\", np.var(nsmv_returns_out, ddof=1))\n",
        "print(\"Portfolio Risk/Volatility (Std Dev):\", np.std(nsmv_returns_out, ddof=1))\n"
      ],
      "metadata": {
        "colab": {
          "base_uri": "https://localhost:8080/"
        },
        "id": "RnBCt2nti4Rp",
        "outputId": "5cfbbfa4-a24f-4076-d26a-e126b484428d"
      },
      "execution_count": null,
      "outputs": [
        {
          "output_type": "stream",
          "name": "stdout",
          "text": [
            "Out-of-Sample Evaluation (NSMV Strategy):\n",
            "Average Realized Return: 0.009496793439758545\n",
            "Portfolio Variance: 0.0016672530890461186\n",
            "Portfolio Risk/Volatility (Std Dev): 0.040832010592745965\n"
          ]
        }
      ]
    },
    {
      "cell_type": "markdown",
      "source": [
        "### MIMV (Out-of-Sample, Rolling Window = 120)"
      ],
      "metadata": {
        "id": "ui1doNdjjrhz"
      }
    },
    {
      "cell_type": "code",
      "source": [
        "from scipy.optimize import minimize\n",
        "import numpy as np\n",
        "import pandas as pd\n",
        "\n",
        "M = 120\n",
        "N = df.shape[1]\n",
        "\n",
        "# Optimization function\n",
        "def portfolio_variance(w, cov_matrix):\n",
        "    return 0.5 * np.dot(w.T, np.dot(cov_matrix, w))\n",
        "\n",
        "# MIMV minimum weight constraint\n",
        "min_weight = 1 / (2 * N)\n",
        "bounds = [(min_weight, 1) for _ in range(N)]\n",
        "\n",
        "# Output storage\n",
        "weights_list = []\n",
        "realized_returns = []\n",
        "\n",
        "for t in range(M, len(df) - 1):\n",
        "    # Get rolling window data\n",
        "    window_data = df.iloc[t - M:t]\n",
        "    mu_t = window_data.mean().values\n",
        "    sigma_t = window_data.cov().values\n",
        "\n",
        "    # Constraints: target return and sum to 1\n",
        "    constraints = [\n",
        "        {'type': 'eq', 'fun': lambda w: np.sum(w) - 1},\n",
        "        {'type': 'eq', 'fun': lambda w: np.dot(w, mu_t) - target_return}\n",
        "    ]\n",
        "\n",
        "    w0 = np.ones(N) / N  # Initial guess\n",
        "\n",
        "    # Solve optimization\n",
        "    result = minimize(portfolio_variance, w0, args=(sigma_t,), method='SLSQP',\n",
        "                      constraints=constraints, bounds=bounds)\n",
        "\n",
        "    w_t = result.x\n",
        "    weights_list.append(w_t)\n",
        "\n",
        "    # Apply weights to next month's actual return\n",
        "    r_tp1 = df.iloc[t + 1].values\n",
        "    realized_return = np.dot(w_t, r_tp1)\n",
        "    realized_returns.append(realized_return)\n",
        "\n",
        "# Convert to arrays and dataframe\n",
        "realized_returns = np.array(realized_returns)\n",
        "weights_array = np.array(weights_list)\n",
        "mimv_weights_out = pd.DataFrame(weights_array, columns=df.columns)\n",
        "\n",
        "# Evaluate performance\n",
        "mimv_returns_out = realized_returns\n",
        "\n",
        "# Print results\n",
        "print(\"Out-of-Sample Evaluation (MIMV Strategy):\")\n",
        "print(\"Average Realized Return:\", np.mean(mimv_returns_out))\n",
        "print(\"Portfolio Variance:\", np.var(mimv_returns_out, ddof=1))\n",
        "print(\"Portfolio Risk/Volatility (Std Dev):\", np.std(mimv_returns_out, ddof=1))\n"
      ],
      "metadata": {
        "colab": {
          "base_uri": "https://localhost:8080/"
        },
        "id": "B3qTWcTjjsAi",
        "outputId": "81b5ff3a-0726-4b96-87b2-7ad67561b5cf"
      },
      "execution_count": null,
      "outputs": [
        {
          "output_type": "stream",
          "name": "stderr",
          "text": [
            "/usr/local/lib/python3.11/dist-packages/scipy/optimize/_slsqp_py.py:435: RuntimeWarning: Values in x were outside bounds during a minimize step, clipping to bounds\n",
            "  fx = wrapped_fun(x)\n",
            "/usr/local/lib/python3.11/dist-packages/scipy/optimize/_slsqp_py.py:439: RuntimeWarning: Values in x were outside bounds during a minimize step, clipping to bounds\n",
            "  g = append(wrapped_grad(x), 0.0)\n",
            "/usr/local/lib/python3.11/dist-packages/scipy/optimize/_slsqp_py.py:493: RuntimeWarning: Values in x were outside bounds during a minimize step, clipping to bounds\n",
            "  a_eq = vstack([con['jac'](x, *con['args'])\n"
          ]
        },
        {
          "output_type": "stream",
          "name": "stdout",
          "text": [
            "Out-of-Sample Evaluation (MIMV Strategy):\n",
            "Average Realized Return: 0.009662279343528122\n",
            "Portfolio Variance: 0.002148589087544334\n",
            "Portfolio Risk/Volatility (Std Dev): 0.046352875720329735\n"
          ]
        }
      ]
    },
    {
      "cell_type": "markdown",
      "source": [
        "## Evaluation"
      ],
      "metadata": {
        "id": "7KUQ667_ytnk"
      }
    },
    {
      "cell_type": "markdown",
      "source": [
        "### Mean-Variance Table"
      ],
      "metadata": {
        "id": "D4Wb1-Elhjff"
      }
    },
    {
      "cell_type": "code",
      "source": [
        "import pandas as pd\n",
        "import numpy as np\n",
        "\n",
        "# Dictionary of strategy return series\n",
        "returns_dict = {\n",
        "    \"MV\": mv_returns_in,\n",
        "    \"NSMV\": nsmv_returns_in,\n",
        "    \"MIMV\": mimv_returns_in,\n",
        "    \"MV (OOS)\": mv_returns_out,\n",
        "    \"NSMV (OOS)\": nsmv_returns_out,\n",
        "    \"MIMV (OOS)\": mimv_returns_out\n",
        "}\n",
        "\n",
        "# Compute mean and variance for each strategy\n",
        "results = {\n",
        "    \"Strategy\": [],\n",
        "    \"Mean\": [],\n",
        "    \"Variance\": []\n",
        "}\n",
        "\n",
        "for name, returns in returns_dict.items():\n",
        "    returns = np.array(returns)\n",
        "    results[\"Strategy\"].append(name)\n",
        "    results[\"Mean\"].append(np.mean(returns))\n",
        "    results[\"Variance\"].append(np.var(returns, ddof=1))  # sample variance\n",
        "\n",
        "# Create DataFrame\n",
        "mean_variance_df = pd.DataFrame(results)\n",
        "mean_variance_df = mean_variance_df.round(4)\n",
        "\n",
        "# Display\n",
        "print(\"Mean-Variance Table (Monthly)\")\n",
        "print(mean_variance_df)"
      ],
      "metadata": {
        "colab": {
          "base_uri": "https://localhost:8080/"
        },
        "id": "c7E6edvohcdR",
        "outputId": "9a3cfcaf-845f-4405-c1bf-6cc5d78428b3"
      },
      "execution_count": null,
      "outputs": [
        {
          "output_type": "stream",
          "name": "stdout",
          "text": [
            "Mean-Variance Table (Monthly)\n",
            "     Strategy    Mean  Variance\n",
            "0          MV  0.0102    0.0014\n",
            "1        NSMV  0.0102    0.0019\n",
            "2        MIMV  0.0102    0.0023\n",
            "3    MV (OOS)  0.0086    0.0013\n",
            "4  NSMV (OOS)  0.0095    0.0017\n",
            "5  MIMV (OOS)  0.0097    0.0021\n"
          ]
        }
      ]
    },
    {
      "cell_type": "markdown",
      "source": [
        "### Mean-Standard Deviation Diagram"
      ],
      "metadata": {
        "id": "VzVsSNYmeqbu"
      }
    },
    {
      "cell_type": "code",
      "source": [
        "import matplotlib.pyplot as plt\n",
        "\n",
        "strategies = [\"MV\", \"NSMV\", \"MIMV\", \"MV (OOS)\", \"NSMV (OOS)\", \"MIMV (OOS)\"]\n",
        "mean_returns = [0.01019, 0.01021, 0.01020, 0.00759, 0.00873, 0.00984]\n",
        "std_devs = [0.03776, 0.04376, 0.04832, 0.03703, 0.04664, 0.05331]\n",
        "\n",
        "plt.figure(figsize=(10, 6))\n",
        "\n",
        "# Plot each point\n",
        "for i in range(len(strategies)):\n",
        "    plt.scatter(std_devs[i], mean_returns[i], label=strategies[i], s=80)\n",
        "    plt.text(std_devs[i] + 0.0005, mean_returns[i], strategies[i], fontsize=9)\n",
        "\n",
        "# Add labels and grid\n",
        "plt.title(\"Mean-Standard Deviation Diagram\")\n",
        "plt.xlabel(\"Portfolio Risk (Standard Deviation)\")\n",
        "plt.ylabel(\"Average Realized Return\")\n",
        "plt.grid(True)\n",
        "plt.legend()\n",
        "plt.show()\n"
      ],
      "metadata": {
        "colab": {
          "base_uri": "https://localhost:8080/",
          "height": 390
        },
        "id": "UYgNZ3IByxXC",
        "outputId": "e98ce2bb-3e2b-4504-9e88-888a79dc18d0"
      },
      "execution_count": null,
      "outputs": [
        {
          "output_type": "display_data",
          "data": {
            "text/plain": [
              "<Figure size 1000x600 with 1 Axes>"
            ],
            "image/png": "[encoded data removed]"
          },
          "metadata": {}
        }
      ]
    },
    {
      "cell_type": "code",
      "source": [
        "import pandas as pd\n",
        "import numpy as np\n",
        "\n",
        "# Build dictionary of in- and out-of-sample return series\n",
        "strategy_pairs = {\n",
        "    \"MV\": (mv_returns_in, mv_returns_out),\n",
        "    \"NSMV\": (nsmv_returns_in, nsmv_returns_out),\n",
        "    \"MIMV\": (mimv_returns_in, mimv_returns_out)\n",
        "}\n",
        "\n",
        "# Calculate gaps\n",
        "gap_data = {\n",
        "    \"Strategy\": [],\n",
        "    \"In-Sample Mean\": [],\n",
        "    \"Out-Sample Mean\": [],\n",
        "    \"Return Gap\": [],\n",
        "    \"In-Sample Sharpe\": [],\n",
        "    \"Out-Sample Sharpe\": [],\n",
        "    \"Sharpe Gap\": []\n",
        "}\n",
        "\n",
        "# Risk-free monthly (3% annual)\n",
        "rf_monthly = (1 + 0.03)**(1/12) - 1\n",
        "\n",
        "for name, (r_in, r_out) in strategy_pairs.items():\n",
        "    mean_in = np.mean(r_in)\n",
        "    mean_out = np.mean(r_out)\n",
        "    std_in = np.std(r_in, ddof=1)\n",
        "    std_out = np.std(r_out, ddof=1)\n",
        "\n",
        "    sharpe_in = (mean_in - rf_monthly) / std_in\n",
        "    sharpe_out = (mean_out - rf_monthly) / std_out\n",
        "\n",
        "    gap_data[\"Strategy\"].append(name)\n",
        "    gap_data[\"In-Sample Mean\"].append(mean_in)\n",
        "    gap_data[\"Out-Sample Mean\"].append(mean_out)\n",
        "    gap_data[\"Return Gap\"].append(mean_in - mean_out)\n",
        "    gap_data[\"In-Sample Sharpe\"].append(sharpe_in)\n",
        "    gap_data[\"Out-Sample Sharpe\"].append(sharpe_out)\n",
        "    gap_data[\"Sharpe Gap\"].append(sharpe_in - sharpe_out)\n",
        "\n",
        "# Convert to DataFrame\n",
        "gap_df = pd.DataFrame(gap_data).round(4)\n",
        "\n",
        "# Display\n",
        "print(\"Out-of-Sample Gap Analysis\")\n",
        "print(gap_df)\n"
      ],
      "metadata": {
        "colab": {
          "base_uri": "https://localhost:8080/"
        },
        "id": "erm5r0XiFaqJ",
        "outputId": "11f3cc3e-6806-45a8-8835-d1d98da734be"
      },
      "execution_count": null,
      "outputs": [
        {
          "output_type": "stream",
          "name": "stdout",
          "text": [
            "Out-of-Sample Gap Analysis\n",
            "  Strategy  In-Sample Mean  Out-Sample Mean  Return Gap  In-Sample Sharpe  \\\n",
            "0       MV          0.0102           0.0086      0.0016            0.2046   \n",
            "1     NSMV          0.0102           0.0095      0.0007            0.1768   \n",
            "2     MIMV          0.0102           0.0097      0.0005            0.1600   \n",
            "\n",
            "   Out-Sample Sharpe  Sharpe Gap  \n",
            "0             0.1687      0.0359  \n",
            "1             0.1722      0.0046  \n",
            "2             0.1552      0.0048  \n"
          ]
        }
      ]
    }
  ]
}